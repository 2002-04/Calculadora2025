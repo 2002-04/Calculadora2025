{
  "nbformat": 4,
  "nbformat_minor": 0,
  "metadata": {
    "colab": {
      "provenance": []
    },
    "kernelspec": {
      "name": "python3",
      "display_name": "Python 3"
    },
    "language_info": {
      "name": "python"
    }
  },
  "cells": [
    {
      "cell_type": "code",
      "execution_count": null,
      "metadata": {
        "id": "x-AsxUwo3hK6"
      },
      "outputs": [],
      "source": [
        "python\n",
        "CopiarEditar\n",
        "import numpy as np\n",
        "import matplotlib.pyplot as plt\n",
        "# Parámetros de la portadora\n",
        "frecuencia_portadora = 80  # Frecuencia de la portadora en Hz\n",
        "amplitud_portadora = 0.8  # Amplitud de la portadora\n",
        "t = np.linspace(0, 1, 1000)  # Tiempo de simulación\n",
        "portadora = amplitud_portadora * np.cos(2 * np.pi * frecuencia_portadora *\n",
        "t)\n",
        "# Visualizar la señal portadora\n",
        "plt.figure(figsize=(10, 4))\n",
        "plt.plot(t, portadora, label='Señal Portadora')\n",
        "plt.title('Señal Portadora')\n",
        "plt.xlabel('Tiempo [3]')\n",
        "plt.ylabel('Amplitud')\n",
        "plt.legend(loc='upper right')\n",
        "plt.grid(True)\n",
        "plt.show()"
      ]
    },
    {
      "cell_type": "code",
      "source": [
        "# Parámetros de la señal de información\n",
        "frecuencia_informacion = 5 # Frecuencia de la señal de información en Hz\n",
        "amplitud_informacion = 0.5 # Amplitud de la señal de información\n",
        "# Señal de información\n",
        "informacion = amplitud_informacion * np.sin(2 * np.pi *\n",
        "frecuencia_informacion * t)\n",
        "# Visualizar la señal de información\n",
        "plt.figure(figsize=(10, 4))\n",
        "plt.plot(t, informacion, label='Señal de Información', color='r')\n",
        "plt.title('Señal de Información')\n",
        "plt.xlabel('Tiempo [3]')\n",
        "plt.ylabel('Amplitud')\n",
        "plt.legend(loc='upper right')\n",
        "plt.grid(True)\n",
        "plt.show()\n"
      ],
      "metadata": {
        "id": "eFEq2-3uEd3g"
      },
      "execution_count": null,
      "outputs": []
    },
    {
      "cell_type": "code",
      "source": [
        "python\n",
        "CopiarEditar\n",
        "# Modulación AM: combinación de la portadora y la señal de información\n",
        "modulada = (1 + informacion) * portadora  # Fórmula de modulación AM\n",
        "# Visualizar la señal modulada\n",
        "plt.figure(figsize=(10, 4))\n",
        "plt.plot(t, modulada, label='Señal Modulda AM', color='g')\n",
        "plt.title('Señal Modulda AM')\n",
        "plt.xlabel('Tiempo [s]')\n",
        "plt.ylabel('Amplitud')\n",
        "*\n",
        "plt.legend(loc='upper right')\n",
        "plt.grid(True)\n",
        "plt.show()"
      ],
      "metadata": {
        "id": "gvH8bzugP6Nx"
      },
      "execution_count": null,
      "outputs": []
    }
  ]
}